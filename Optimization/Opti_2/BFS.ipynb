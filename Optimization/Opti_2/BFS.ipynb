{
 "cells": [
  {
   "cell_type": "code",
   "execution_count": 1,
   "metadata": {},
   "outputs": [],
   "source": [
    "#Input file of the Maze\n",
    "import numpy as np\n",
    "from heapq import heappush, heappop\n",
    "a = np.array([[1, 1, 1, 1, 1, 1, 1, 1, 1, 1],[1, 0, 1, 0, 1, 0, 0, 0, 0, 1],[1, 0, 1, 0, 1, 0, 0, 0, 0, 1],[1, 0, 1, 0, 1, 1, 1, 1, 0, 1],[1, 0, 1, 0, 0, 0, 0, 1, 0, 1],[1, 0, 1, 0, 0, 0, 0, 1, 0, 1],[1, 0, 0, 0, 0, 0, 0, 1, 0, 1],\n",
    "    [1, 0, 1, 0, 0, 0, 0, 0, 0, 1],\n",
    "    [1, 0, 1, 0, 0, 0, 0, 0, 0, 1],\n",
    "    [1, 1, 1, 1, 1, 1, 1, 1, 1, 1]])\n",
    "\n",
    "import networkx as nx"
   ]
  },
  {
   "cell_type": "code",
   "execution_count": 14,
   "metadata": {},
   "outputs": [],
   "source": [
    "#Maze Solver \n",
    "#Using BFS, DFS, A*  Algorithm\n",
    "\n",
    "#First Converting Maze to Graph\n",
    "from collections import deque\n",
    "\n",
    "def maze2graph(maze):\n",
    "    height = len(maze)\n",
    "    width = len(maze[0]) if height else 0\n",
    "    graph = {(i, j): [] for j in range(width) for i in range(height) if not maze[i][j]}\n",
    "    for row, col in graph.keys():\n",
    "        if row < height - 1 and not maze[row + 1][col]:\n",
    "            graph[(row, col)].append((\"S \", (row + 1, col)))\n",
    "            graph[(row + 1, col)].append((\"N \", (row, col)))\n",
    "        if col < width - 1 and not maze[row][col + 1]:\n",
    "            graph[(row, col)].append((\"E \", (row, col + 1)))\n",
    "            graph[(row, col + 1)].append((\"W \", (row, col)))\n",
    "    return graph"
   ]
  },
  {
   "cell_type": "code",
   "execution_count": 15,
   "metadata": {},
   "outputs": [],
   "source": [
    "def find_path_bfs(maze):\n",
    "    #Start and the goal position can be changed from here\n",
    "    start, goal = (1, 1), (2,5)\n",
    "    queue = deque([(\"\", start)])\n",
    "    visited = set()\n",
    "    graph = maze2graph(maze)\n",
    "    #graph = nx.from_numpy_matrix(maze, create_using=nx.MultiGraph)\n",
    "    while queue:\n",
    "        path, current = queue.popleft()\n",
    "        if current == goal:\n",
    "            return path\n",
    "        if current in visited:\n",
    "            continue\n",
    "        visited.add(current)\n",
    "        for direction, neighbour in graph[current]:\n",
    "            queue.append((path + direction, neighbour))\n",
    "    return \"NO WAY!\"\n",
    "    return f\"Path followed :{path} {queue} {visited}\""
   ]
  },
  {
   "cell_type": "code",
   "execution_count": 16,
   "metadata": {},
   "outputs": [
    {
     "data": {
      "text/plain": [
       "'S S S S S E E S E E E E E N N N N N W W W '"
      ]
     },
     "execution_count": 16,
     "metadata": {},
     "output_type": "execute_result"
    }
   ],
   "source": [
    "k = find_path_bfs(a)\n",
    "k"
   ]
  },
  {
   "cell_type": "code",
   "execution_count": null,
   "metadata": {},
   "outputs": [],
   "source": []
  },
  {
   "cell_type": "code",
   "execution_count": null,
   "metadata": {},
   "outputs": [],
   "source": []
  },
  {
   "cell_type": "code",
   "execution_count": null,
   "metadata": {},
   "outputs": [],
   "source": []
  },
  {
   "cell_type": "code",
   "execution_count": null,
   "metadata": {},
   "outputs": [],
   "source": []
  },
  {
   "cell_type": "code",
   "execution_count": null,
   "metadata": {},
   "outputs": [],
   "source": []
  }
 ],
 "metadata": {
  "kernelspec": {
   "display_name": "Python 3",
   "language": "python",
   "name": "python3"
  },
  "language_info": {
   "codemirror_mode": {
    "name": "ipython",
    "version": 3
   },
   "file_extension": ".py",
   "mimetype": "text/x-python",
   "name": "python",
   "nbconvert_exporter": "python",
   "pygments_lexer": "ipython3",
   "version": "3.8.3"
  }
 },
 "nbformat": 4,
 "nbformat_minor": 4
}
