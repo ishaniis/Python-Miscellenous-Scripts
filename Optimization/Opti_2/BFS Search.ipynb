{
 "cells": [
  {
   "cell_type": "code",
   "execution_count": 1,
   "metadata": {},
   "outputs": [],
   "source": [
    "#Input file of the Maze\n",
    "a = [\n",
    "    [1, 1, 1, 1, 1, 1, 1, 1, 1, 1],\n",
    "    [1, 0, 1, 0, 1, 0, 0, 0, 0, 1],\n",
    "    [1, 0, 1, 0, 1, 0, 0, 0, 0, 1],\n",
    "    [1, 0, 1, 0, 1, 1, 1, 1, 0, 1],\n",
    "    [1, 0, 1, 0, 0, 0, 0, 1, 0, 1],\n",
    "    [1, 0, 1, 0, 0, 0, 0, 1, 0, 1],\n",
    "    [1, 0, 0, 0, 0, 0, 0, 1, 0, 1],\n",
    "    [1, 0, 1, 0, 0, 0, 0, 0, 0, 1],\n",
    "    [1, 0, 1, 0, 0, 0, 0, 0, 0, 1],\n",
    "    [1, 1, 1, 1, 1, 1, 1, 1, 1, 1],\n",
    "]"
   ]
  },
  {
   "cell_type": "code",
   "execution_count": 2,
   "metadata": {},
   "outputs": [],
   "source": [
    "#Position to start and end position\n",
    "start = 1, 1\n",
    "end = 2, 5"
   ]
  },
  {
   "cell_type": "code",
   "execution_count": 3,
   "metadata": {},
   "outputs": [],
   "source": [
    "#Create Matrix\n",
    "m = []\n",
    "for i in range(len(a)):\n",
    "    m.append([])\n",
    "    for j in range(len(a[i])):\n",
    "        m[-1].append(0)\n",
    "i,j = start\n",
    "m[i][j] = 1"
   ]
  },
  {
   "cell_type": "code",
   "execution_count": 4,
   "metadata": {},
   "outputs": [],
   "source": [
    "#Just Making a Step \n",
    "def make_step(k):\n",
    "  for i in range(len(m)):\n",
    "    for j in range(len(m[i])):\n",
    "      if m[i][j] == k:\n",
    "        if i>0 and m[i-1][j] == 0 and a[i-1][j] == 0:\n",
    "          m[i-1][j] = k + 1\n",
    "        if j>0 and m[i][j-1] == 0 and a[i][j-1] == 0:\n",
    "          m[i][j-1] = k + 1\n",
    "        if i<len(m)-1 and m[i+1][j] == 0 and a[i+1][j] == 0:\n",
    "          m[i+1][j] = k + 1\n",
    "        if j<len(m[i])-1 and m[i][j+1] == 0 and a[i][j+1] == 0:\n",
    "           m[i][j+1] = k + 1"
   ]
  },
  {
   "cell_type": "code",
   "execution_count": null,
   "metadata": {},
   "outputs": [],
   "source": [
    "k = 0\n",
    "while m[end[0]][end[1]] == 0:\n",
    "    k += 1\n",
    "    make_step(k)"
   ]
  },
  {
   "cell_type": "code",
   "execution_count": null,
   "metadata": {},
   "outputs": [],
   "source": [
    "i, j = end\n",
    "k = m[i][j]\n",
    "the_path = [(i,j)]\n",
    "while k > 1:\n",
    "  if i > 0 and m[i - 1][j] == k-1:\n",
    "    i, j = i-1, j\n",
    "    the_path.append((i, j))\n",
    "    k-=1\n",
    "  elif j > 0 and m[i][j - 1] == k-1:\n",
    "    i, j = i, j-1\n",
    "    the_path.append((i, j))\n",
    "    k-=1\n",
    "  elif i < len(m) - 1 and m[i + 1][j] == k-1:\n",
    "    i, j = i+1, j\n",
    "    the_path.append((i, j))\n",
    "    k-=1\n",
    "  elif j < len(m[i]) - 1 and m[i][j + 1] == k-1:\n",
    "    i, j = i, j+1\n",
    "    the_path.append((i, j))\n",
    "    k -= 1"
   ]
  },
  {
   "cell_type": "code",
   "execution_count": 5,
   "metadata": {},
   "outputs": [],
   "source": [
    "make_step(1)\n",
    "make_step(2)\n",
    "make_step(3)\n",
    "make_step(4)\n",
    "make_step(5)\n",
    "make_step(6)\n",
    "make_step(7)\n",
    "make_step(8)"
   ]
  },
  {
   "cell_type": "code",
   "execution_count": null,
   "metadata": {},
   "outputs": [],
   "source": []
  }
 ],
 "metadata": {
  "kernelspec": {
   "display_name": "Python 3",
   "language": "python",
   "name": "python3"
  },
  "language_info": {
   "codemirror_mode": {
    "name": "ipython",
    "version": 3
   },
   "file_extension": ".py",
   "mimetype": "text/x-python",
   "name": "python",
   "nbconvert_exporter": "python",
   "pygments_lexer": "ipython3",
   "version": "3.8.3"
  }
 },
 "nbformat": 4,
 "nbformat_minor": 4
}
