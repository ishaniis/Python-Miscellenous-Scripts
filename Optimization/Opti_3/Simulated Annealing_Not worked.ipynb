{
 "cells": [
  {
   "cell_type": "code",
   "execution_count": 1,
   "metadata": {},
   "outputs": [],
   "source": [
    "#Simulated Annealing\n",
    "#Algorithm focusses on determing the global minimum of a given function\n",
    "\n",
    "#The idea is to reach the final temperature from the initial temperature with\n",
    "#Then we set up the initial state of the solution \n",
    "import random\n",
    "import math"
   ]
  },
  {
   "cell_type": "code",
   "execution_count": 8,
   "metadata": {},
   "outputs": [
    {
     "ename": "SyntaxError",
     "evalue": "cannot assign to function call (<ipython-input-8-da1fcff5285a>, line 24)",
     "output_type": "error",
     "traceback": [
      "\u001b[1;36m  File \u001b[1;32m\"<ipython-input-8-da1fcff5285a>\"\u001b[1;36m, line \u001b[1;32m24\u001b[0m\n\u001b[1;33m    cost_diff = get_cost(self.current_state) = get_cost(neighbor)\u001b[0m\n\u001b[1;37m                ^\u001b[0m\n\u001b[1;31mSyntaxError\u001b[0m\u001b[1;31m:\u001b[0m cannot assign to function call\n"
     ]
    }
   ],
   "source": [
    "def simulated_annealing(initial_state):\n",
    "    initial_temp = 90\n",
    "    final_temp = 0.1\n",
    "    alpha = 0.01\n",
    "\n",
    "    current_temp = initial_temp\n",
    "    \n",
    "    #start by initializing the current state with initial state\n",
    "    \n",
    "    current_state = initial_state\n",
    "    solution = current_state\n",
    "\n",
    "    while current_temp > final_temp:\n",
    "        #Then we generate a random neighbour from the current state\n",
    "        neighbor = random.choice(get_neighbors())\n",
    "        #If the current state to randomly generated state leads to reduction in \n",
    "        #overall system temperature then we'll accept the given state\n",
    "        #else we will search for a better solution\n",
    "\n",
    "        #To accomplish the same, we define a cost function\n",
    "        #to visualize the difference as to what state needs to be accepted and what \n",
    "        #needs to be rejected\n",
    "\n",
    "        cost_diff = get_cost(self.current_state) = get_cost(neighbor)\n",
    "\n",
    "        if cost_diff > 0:\n",
    "            solution = neighbour\n",
    "        else:\n",
    "            #Exception Handling: If the new solution is not good, and provided the system\n",
    "            #temperature is relatively high, we'll still accept the solution\n",
    "            #In this case, we'll use worst solution case scenario as to undermine\n",
    "            #that a given problem is not stucked in a local minima condiition\n",
    "            if random.uniform(0,1) < math.exp(cost_diff / current_temp):\n",
    "                solution = neighbour\n",
    "                current_temp -= alpha\n",
    "        return solution    \n",
    "    "
   ]
  },
  {
   "cell_type": "code",
   "execution_count": 10,
   "metadata": {},
   "outputs": [
    {
     "ename": "SyntaxError",
     "evalue": "cannot assign to function call (<ipython-input-10-50e8df3b678a>, line 20)",
     "output_type": "error",
     "traceback": [
      "\u001b[1;36m  File \u001b[1;32m\"<ipython-input-10-50e8df3b678a>\"\u001b[1;36m, line \u001b[1;32m20\u001b[0m\n\u001b[1;33m    cost_diff = get_cost(self.current_state) = get_cost(neighbor)\u001b[0m\n\u001b[1;37m                ^\u001b[0m\n\u001b[1;31mSyntaxError\u001b[0m\u001b[1;31m:\u001b[0m cannot assign to function call\n"
     ]
    }
   ],
   "source": [
    "import random\n",
    "import math\n",
    "\n",
    "def simulated_annealing(initial_state):\n",
    "    \"\"\"Peforms simulated annealing to find a solution\"\"\"\n",
    "    initial_temp = 90\n",
    "    final_temp = .1\n",
    "    alpha = 0.01\n",
    "    \n",
    "    current_temp = initial_temp\n",
    "\n",
    "    # Start by initializing the current state with the initial state\n",
    "    current_state = initial_state\n",
    "    solution = current_state\n",
    "\n",
    "    while current_temp > final_temp:\n",
    "        neighbor = random.choice(get_neighbors())\n",
    "\n",
    "        # Check if neighbor is best so far\n",
    "        cost_diff = get_cost(self.current_state) = get_cost(neighbor)\n",
    "\n",
    "        # if the new solution is better, accept it\n",
    "        if cost_diff > 0:\n",
    "            solution = neighbor\n",
    "        # if the new solution is not better, accept it with a probability of e^(-cost/temp)\n",
    "        else:\n",
    "            if random.uniform(0, 1) < math.exp(cost_diff / current_temp):\n",
    "                solution = neighbor\n",
    "        # decrement the temperature\n",
    "        current_temp -= alpha\n",
    "\n",
    "    return solution\n",
    "\n",
    "def get_cost(state):\n",
    "    \"\"\"Calculates cost of the argument state for your solution.\"\"\"\n",
    "    raise NotImplementedError\n",
    "    \n",
    "def get_neighbors(state):\n",
    "    \"\"\"Returns neighbors of the argument state for your solution.\"\"\"\n",
    "    raise NotImplementedError\n",
    "    "
   ]
  },
  {
   "cell_type": "code",
   "execution_count": 11,
   "metadata": {},
   "outputs": [
    {
     "ename": "SyntaxError",
     "evalue": "cannot assign to function call (<ipython-input-11-4be8ec96a69f>, line 20)",
     "output_type": "error",
     "traceback": [
      "\u001b[1;36m  File \u001b[1;32m\"<ipython-input-11-4be8ec96a69f>\"\u001b[1;36m, line \u001b[1;32m20\u001b[0m\n\u001b[1;33m    cost_diff = get_cost(self.current_state) = get_cost(neighbor)\u001b[0m\n\u001b[1;37m                ^\u001b[0m\n\u001b[1;31mSyntaxError\u001b[0m\u001b[1;31m:\u001b[0m cannot assign to function call\n"
     ]
    }
   ],
   "source": [
    "from random import random\n",
    "import math\n",
    "\n",
    "def simulated_annealing(initial_state):\n",
    "    \"\"\"Peforms simulated annealing to find a solution\"\"\"\n",
    "    initial_temp = 90\n",
    "    final_temp = .1\n",
    "    alpha = 0.01\n",
    "    \n",
    "    current_temp = initial_temp\n",
    "\n",
    "    # Start by initializing the current state with the initial state\n",
    "    current_state = initial_state\n",
    "    solution = current_state\n",
    "\n",
    "    while current_temp > final_temp:\n",
    "        neighbor = random.choice(get_neighbors())\n",
    "\n",
    "        # Check if neighbor is best so far\n",
    "        cost_diff = get_cost(self.current_state) = get_cost(neighbor)\n",
    "\n",
    "        # if the new solution is better, accept it\n",
    "        if cost_diff > 0:\n",
    "            solution = neighbor\n",
    "        # if the new solution is not better, accept it with a probability of e^(-cost/temp)\n",
    "        else:\n",
    "            if random.uniform(0, 1) < math.exp(cost_diff / current_temp):\n",
    "                solution = neighbor\n",
    "        # decrement the temperature\n",
    "        current_temp -= alpha\n",
    "\n",
    "    return solution\n",
    "\n",
    "def get_cost(state):\n",
    "    \"\"\"Calculates cost of the argument state for your solution.\"\"\"\n",
    "    raise NotImplementedError\n",
    "    \n",
    "def get_neighbors(state):\n",
    "    \"\"\"Returns neighbors of the argument state for your solution.\"\"\"\n",
    "    raise NotImplementedError"
   ]
  },
  {
   "cell_type": "code",
   "execution_count": null,
   "metadata": {},
   "outputs": [],
   "source": []
  }
 ],
 "metadata": {
  "kernelspec": {
   "display_name": "Python 3",
   "language": "python",
   "name": "python3"
  },
  "language_info": {
   "codemirror_mode": {
    "name": "ipython",
    "version": 3
   },
   "file_extension": ".py",
   "mimetype": "text/x-python",
   "name": "python",
   "nbconvert_exporter": "python",
   "pygments_lexer": "ipython3",
   "version": "3.8.3"
  }
 },
 "nbformat": 4,
 "nbformat_minor": 4
}
