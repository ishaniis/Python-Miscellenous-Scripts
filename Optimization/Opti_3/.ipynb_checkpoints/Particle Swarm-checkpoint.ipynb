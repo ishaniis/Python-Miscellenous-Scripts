{
 "cells": [
  {
   "cell_type": "code",
   "execution_count": 1,
   "metadata": {},
   "outputs": [],
   "source": [
    "import random\n",
    "import math\n",
    "import matplotlib.pyplot as plt\n",
    "import numpy as np"
   ]
  },
  {
   "cell_type": "code",
   "execution_count": 3,
   "metadata": {},
   "outputs": [],
   "source": [
    "pi = 3.14\n",
    "def objective_function(x):\n",
    "    #Format to input the objective function\n",
    "    #x = x[0]\n",
    "    #y = x[1]\n",
    "    #z = x[2]\n",
    "    y = x[0]**4 + 4*(x[0]**3) + 4*(x[0]**2) + (x[2]**2) - 2*(x[2]) - 20*math.exp(-0.2*x[1]) - math.exp(math.cos(pi*x[1])) + 21\n",
    "    return y"
   ]
  },
  {
   "cell_type": "code",
   "execution_count": 4,
   "metadata": {},
   "outputs": [],
   "source": [
    "bounds=[(-10,10),(-10,10),(-10,10)]   # upper and lower bounds of variables\n",
    "#First Index Location for x bounds\n",
    "#Second Index Location for Y Bounds\n",
    "#Third Index Location for Z Bounds\n",
    "nv = 3                   # number of variables\n",
    "# if minimization problem, mm = -1; if maximization problem, mm = 1\n",
    "mm = -1                   \n",
    " \n",
    "# THE FOLLOWING PARAMETERS ARE OPTINAL.\n",
    "particle_size=100         # number of particles\n",
    "iterations=200           # max number of iterations\n",
    "w=0.85                    # inertia constant\n",
    "c1=1                    # cognitive constant\n",
    "c2=2                     # social constant"
   ]
  },
  {
   "cell_type": "code",
   "execution_count": 5,
   "metadata": {},
   "outputs": [],
   "source": [
    "class Particle:\n",
    "    def __init__(self,bounds):\n",
    "        self.particle_position=[]                     # particle position\n",
    "        self.particle_velocity=[]                     # particle velocity\n",
    "        self.local_best_particle_position=[]          # best position of the particle\n",
    "        self.fitness_local_best_particle_position= initial_fitness  # initial objective function value of the best particle position\n",
    "        self.fitness_particle_position=initial_fitness             # objective function value of the particle position\n",
    " \n",
    "        for i in range(nv):\n",
    "            self.particle_position.append(random.uniform(bounds[i][0],bounds[i][1])) # generate random initial position\n",
    "            self.particle_velocity.append(random.uniform(-1,1)) # generate random initial velocity\n",
    " \n",
    "    def evaluate(self,objective_function):\n",
    "        self.fitness_particle_position=objective_function(self.particle_position)\n",
    "        if mm == -1:\n",
    "            if self.fitness_particle_position < self.fitness_local_best_particle_position:\n",
    "                self.local_best_particle_position=self.particle_position                  # update the local best\n",
    "                self.fitness_local_best_particle_position=self.fitness_particle_position  # update the fitness of the local best\n",
    "        if mm == 1:\n",
    "            if self.fitness_particle_position > self.fitness_local_best_particle_position:\n",
    "                self.local_best_particle_position=self.particle_position                  # update the local best\n",
    "                self.fitness_local_best_particle_position=self.fitness_particle_position  # update the fitness of the local best\n",
    " \n",
    "    def update_velocity(self,global_best_particle_position):\n",
    "        for i in range(nv):\n",
    "            r1=random.random()\n",
    "            r2=random.random()\n",
    " \n",
    "            cognitive_velocity = c1*r1*(self.local_best_particle_position[i] - self.particle_position[i])\n",
    "            social_velocity = c2*r2*(global_best_particle_position[i] - self.particle_position[i])\n",
    "            self.particle_velocity[i] = w*self.particle_velocity[i]+ cognitive_velocity + social_velocity\n",
    " \n",
    "    def update_position(self,bounds):\n",
    "        for i in range(nv):\n",
    "            self.particle_position[i]=self.particle_position[i]+self.particle_velocity[i]\n",
    " \n",
    "            # check and repair to satisfy the upper bounds\n",
    "            if self.particle_position[i]>bounds[i][1]:\n",
    "                self.particle_position[i]=bounds[i][1]\n",
    "            # check and repair to satisfy the lower bounds\n",
    "            if self.particle_position[i] < bounds[i][0]:\n",
    "                self.particle_position[i]=bounds[i][0]"
   ]
  },
  {
   "cell_type": "code",
   "execution_count": 6,
   "metadata": {},
   "outputs": [],
   "source": [
    "class PSO():\n",
    "    def __init__(self,objective_function,bounds,particle_size,iterations):\n",
    " \n",
    "        fitness_global_best_particle_position=initial_fitness\n",
    "        global_best_particle_position=[]\n",
    " \n",
    "        swarm_particle=[]\n",
    "        for i in range(particle_size):\n",
    "            swarm_particle.append(Particle(bounds))\n",
    "        A=[]\n",
    "         \n",
    "        for i in range(iterations):\n",
    "            for j in range(particle_size):\n",
    "                swarm_particle[j].evaluate(objective_function)\n",
    " \n",
    "                if mm ==-1:\n",
    "                    if swarm_particle[j].fitness_particle_position < fitness_global_best_particle_position:\n",
    "                        global_best_particle_position = list(swarm_particle[j].particle_position)\n",
    "                        fitness_global_best_particle_position = float(swarm_particle[j].fitness_particle_position)\n",
    "                if mm ==1:\n",
    "                    if swarm_particle[j].fitness_particle_position > fitness_global_best_particle_position:\n",
    "                        global_best_particle_position = list(swarm_particle[j].particle_position)\n",
    "                        fitness_global_best_particle_position = float(swarm_particle[j].fitness_particle_position)\n",
    "            for j in range(particle_size):\n",
    "                swarm_particle[j].update_velocity(global_best_particle_position)\n",
    "                swarm_particle[j].update_position(bounds)\n",
    "                 \n",
    "            A.append(fitness_global_best_particle_position) # record the best fitness\n",
    "             \n",
    "             \n",
    "        print('Optimal solution:', global_best_particle_position)\n",
    "        print('Objective function value:', fitness_global_best_particle_position)\n",
    "        print('Evolutionary process of the objective function value:')\n",
    "        plt.plot(A)"
   ]
  },
  {
   "cell_type": "code",
   "execution_count": 7,
   "metadata": {},
   "outputs": [],
   "source": [
    "if mm == -1:\n",
    "    initial_fitness = float(\"inf\") # for minimization problem\n",
    "#if mm == 1:\n",
    "    #initial_fitness = -float(\"inf\") # for maximization problem"
   ]
  },
  {
   "cell_type": "code",
   "execution_count": 8,
   "metadata": {},
   "outputs": [
    {
     "name": "stdout",
     "output_type": "stream",
     "text": [
      "Optimal solution: [-2.0001142030897783, -10, 0.9994200975232187]\n",
      "Objective function value: -130.49905869548613\n",
      "Evolutionary process of the objective function value:\n"
     ]
    },
    {
     "data": {
      "text/plain": [
       "<__main__.PSO at 0x1c2f2b2deb0>"
      ]
     },
     "execution_count": 8,
     "metadata": {},
     "output_type": "execute_result"
    },
    {
     "data": {
      "image/png": "[encoded data removed]",
      "text/plain": [
       "<Figure size 432x288 with 1 Axes>"
      ]
     },
     "metadata": {
      "needs_background": "light"
     },
     "output_type": "display_data"
    }
   ],
   "source": [
    "# Main PSO         \n",
    "PSO(objective_function,bounds,particle_size,iterations)"
   ]
  },
  {
   "cell_type": "code",
   "execution_count": null,
   "metadata": {},
   "outputs": [],
   "source": []
  }
 ],
 "metadata": {
  "kernelspec": {
   "display_name": "Python 3",
   "language": "python",
   "name": "python3"
  },
  "language_info": {
   "codemirror_mode": {
    "name": "ipython",
    "version": 3
   },
   "file_extension": ".py",
   "mimetype": "text/x-python",
   "name": "python",
   "nbconvert_exporter": "python",
   "pygments_lexer": "ipython3",
   "version": "3.8.3"
  }
 },
 "nbformat": 4,
 "nbformat_minor": 4
}
