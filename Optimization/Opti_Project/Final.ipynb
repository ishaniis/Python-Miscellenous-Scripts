{
 "cells": [
  {
   "cell_type": "code",
   "execution_count": 1,
   "metadata": {},
   "outputs": [
    {
     "data": {
      "text/plain": [
       "243.71250609539814"
      ]
     },
     "execution_count": 1,
     "metadata": {},
     "output_type": "execute_result"
    }
   ],
   "source": [
    "from haversine import haversine\n",
    "import numpy as np\n",
    "\n",
    "haversine((45.7597, 4.8422),(48.8567, 2.3508), unit='mi')"
   ]
  },
  {
   "cell_type": "code",
   "execution_count": 2,
   "metadata": {},
   "outputs": [],
   "source": [
    "destination = (34.679423, -82.844883)\n",
    "l = (34.679951, -82.842482)\n",
    "a = (34.679662, -82.834772)\n",
    "b = (34.681994, -82.837092)\n",
    "c = (34.682775, -82.843187)\n",
    "d = (34.682793, -82.845400)\n",
    "e = (34.682350, -82.848077)\n",
    "g = (34.679238, -82.847597)\n",
    "h = (34.677544, -82.846836)\n",
    "i = (34.677722, -82.844467)\n",
    "j = (34.675022, -82.844505)\n",
    "k = (34.677989, -82.841611)\n",
    "m = (34.678681, -82.841880)\n",
    "n = (34.678606, -82.837178)\n",
    "o = (34.679876, -82.836365)\n",
    "p = (34.677302, -82.837420)\n",
    "q = (34.677331, -82.838278)\n",
    "r = (34.675768, -82.838505)\n",
    "s = (34.676372, -82.840997)\n",
    "t = (34.670928, -82.835369)\n",
    "u = (34.671802, -82.834872)\n",
    "v = (34.671118, -82.833874)\n",
    "w = (34.671686, -82.833944)\n",
    "x = (34.672089, -82.834341)\n",
    "y = (34.675373, -82.830911)\n",
    "z = (34.679718, -82.830129)\n",
    "\n",
    "#Route1 - \n",
    "#Route2 - \n",
    "#Route3 - "
   ]
  },
  {
   "cell_type": "code",
   "execution_count": 3,
   "metadata": {},
   "outputs": [],
   "source": [
    "dl = haversine(destination,l, unit=\"mi\")\n",
    "source = (a , b , c , d , e  , g , h , i , j , k , l , m , n , o , p , q , r , s , t , u , v , w , x , y, z)"
   ]
  },
  {
   "cell_type": "code",
   "execution_count": 4,
   "metadata": {},
   "outputs": [
    {
     "name": "stdout",
     "output_type": "stream",
     "text": [
      "0\n",
      "1\n",
      "2\n",
      "3\n",
      "4\n",
      "5\n",
      "6\n",
      "7\n",
      "8\n",
      "9\n",
      "10\n",
      "11\n",
      "12\n",
      "13\n",
      "14\n",
      "15\n",
      "16\n",
      "17\n",
      "18\n",
      "19\n",
      "20\n",
      "21\n",
      "22\n",
      "23\n",
      "24\n"
     ]
    }
   ],
   "source": [
    "euclidean_distance = np.zeros((25,1))\n",
    "for sp in range(len(source)):\n",
    "    print(sp)\n",
    "    mk = 0\n",
    "    euclidean_distance[sp][:] = (haversine(source[sp] , destination, unit=\"mi\"))"
   ]
  },
  {
   "cell_type": "code",
   "execution_count": 5,
   "metadata": {},
   "outputs": [],
   "source": [
    "#Heuristic Evaluation"
   ]
  },
  {
   "cell_type": "code",
   "execution_count": 6,
   "metadata": {},
   "outputs": [
    {
     "data": {
      "text/plain": [
       "[[0.5747320018011932],\n",
       " [0.47698159528005885],\n",
       " [0.2508483349280843],\n",
       " [0.23469040944070815],\n",
       " [0.2717226643017277],\n",
       " [0.15473543237819368],\n",
       " [0.170789162488904],\n",
       " [0.11988123894363409],\n",
       " [0.3048377274227078],\n",
       " [0.21066670274611343],\n",
       " [0.1412152852484275],\n",
       " [0.17816338010946586],\n",
       " [0.4414158357381372],\n",
       " [0.4849927875557361],\n",
       " [0.44865343891472553],\n",
       " [0.4021665088096663],\n",
       " [0.4417097365208267],\n",
       " [0.30527354679725405],\n",
       " [0.7979721959236274],\n",
       " [0.7751420465369228],\n",
       " [0.8488718915975283],\n",
       " [0.8198300355676451],\n",
       " [0.7845958379008372],\n",
       " [0.8417656251642981],\n",
       " [0.8385518032962075]]"
      ]
     },
     "execution_count": 6,
     "metadata": {},
     "output_type": "execute_result"
    }
   ],
   "source": [
    "h = euclidean_distance\n",
    "np.array(h).tolist()"
   ]
  },
  {
   "cell_type": "code",
   "execution_count": 7,
   "metadata": {},
   "outputs": [
    {
     "data": {
      "text/plain": [
       "array([0.11988124])"
      ]
     },
     "execution_count": 7,
     "metadata": {},
     "output_type": "execute_result"
    }
   ],
   "source": [
    "h[7]"
   ]
  }
 ],
 "metadata": {
  "kernelspec": {
   "display_name": "Python 3",
   "language": "python",
   "name": "python3"
  },
  "language_info": {
   "codemirror_mode": {
    "name": "ipython",
    "version": 3
   },
   "file_extension": ".py",
   "mimetype": "text/x-python",
   "name": "python",
   "nbconvert_exporter": "python",
   "pygments_lexer": "ipython3",
   "version": "3.8.3"
  }
 },
 "nbformat": 4,
 "nbformat_minor": 4
}
