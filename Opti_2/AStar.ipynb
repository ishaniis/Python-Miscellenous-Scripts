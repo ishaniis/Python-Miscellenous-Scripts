{
 "cells": [
  {
   "cell_type": "code",
   "execution_count": 1,
   "metadata": {},
   "outputs": [],
   "source": [
    "#Input file of the Maze\n",
    "import numpy as np\n",
    "from heapq import heappush, heappop\n",
    "a = np.array([[1, 1, 1, 1, 1, 1, 1, 1, 1, 1],[1, 0, 1, 0, 1, 0, 0, 0, 0, 1],[1, 0, 1, 0, 1, 0, 0, 0, 0, 1],[1, 0, 1, 0, 1, 1, 1, 1, 0, 1],[1, 0, 1, 0, 0, 0, 0, 1, 0, 1],[1, 0, 1, 0, 0, 0, 0, 1, 0, 1],[1, 0, 0, 0, 0, 0, 0, 1, 0, 1],\n",
    "    [1, 0, 1, 0, 0, 0, 0, 0, 0, 1],\n",
    "    [1, 0, 1, 0, 0, 0, 0, 0, 0, 1],\n",
    "    [1, 1, 1, 1, 1, 1, 1, 1, 1, 1]])\n",
    "\n",
    "import networkx as nx"
   ]
  },
  {
   "cell_type": "code",
   "execution_count": 2,
   "metadata": {},
   "outputs": [],
   "source": [
    "#Maze Solver \n",
    "#Using BFS, DFS, A*  Algorithm\n",
    "\n",
    "#First Converting Maze to Graph\n",
    "from collections import deque\n",
    "\n",
    "def maze2graph(maze):\n",
    "    height = len(maze)\n",
    "    width = len(maze[0]) if height else 0\n",
    "    graph = {(i, j): [] for j in range(width) for i in range(height) if not maze[i][j]}\n",
    "    for row, col in graph.keys():\n",
    "        if row < height - 1 and not maze[row + 1][col]:\n",
    "            graph[(row, col)].append((\"S \", (row + 1, col)))\n",
    "            graph[(row + 1, col)].append((\"N \", (row, col)))\n",
    "        if col < width - 1 and not maze[row][col + 1]:\n",
    "            graph[(row, col)].append((\"E \", (row, col + 1)))\n",
    "            graph[(row, col + 1)].append((\"W \", (row, col)))\n",
    "    return graph"
   ]
  },
  {
   "cell_type": "code",
   "execution_count": 4,
   "metadata": {},
   "outputs": [],
   "source": [
    "def heuristic(cell, goal):\n",
    "    return abs(cell[0] - goal[0]) + abs(cell[1] - goal[1])\n",
    "\n",
    "\n",
    "def find_path_astar(maze):\n",
    "    start, goal = (1, 1), (2,5)\n",
    "    pr_queue = []\n",
    "    heappush(pr_queue, (0 + heuristic(start, goal), 0, \"\", start))\n",
    "    visited = set()\n",
    "    graph = maze2graph(maze)\n",
    "    while pr_queue:\n",
    "        _, cost, path, current = heappop(pr_queue)\n",
    "        if current == goal:\n",
    "            return path\n",
    "        if current in visited:\n",
    "            continue\n",
    "        visited.add(current)\n",
    "        for direction, neighbour in graph[current]:\n",
    "            heappush(pr_queue, (cost + heuristic(neighbour, goal), cost + 1,\n",
    "                                path + direction, neighbour))\n",
    "    return \"NO WAY!\""
   ]
  },
  {
   "cell_type": "code",
   "execution_count": 5,
   "metadata": {},
   "outputs": [
    {
     "data": {
      "text/plain": [
       "'S S S S S E E E E E S E E N N N N N W W W '"
      ]
     },
     "execution_count": 5,
     "metadata": {},
     "output_type": "execute_result"
    }
   ],
   "source": [
    "find_path_astar(a)"
   ]
  },
  {
   "cell_type": "code",
   "execution_count": null,
   "metadata": {},
   "outputs": [],
   "source": []
  }
 ],
 "metadata": {
  "kernelspec": {
   "display_name": "Python 3",
   "language": "python",
   "name": "python3"
  },
  "language_info": {
   "codemirror_mode": {
    "name": "ipython",
    "version": 3
   },
   "file_extension": ".py",
   "mimetype": "text/x-python",
   "name": "python",
   "nbconvert_exporter": "python",
   "pygments_lexer": "ipython3",
   "version": "3.8.3"
  }
 },
 "nbformat": 4,
 "nbformat_minor": 4
}
