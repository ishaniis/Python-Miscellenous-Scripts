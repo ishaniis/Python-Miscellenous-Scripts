{
 "cells": [
  {
   "cell_type": "code",
   "execution_count": 12,
   "metadata": {},
   "outputs": [
    {
     "name": "stdout",
     "output_type": "stream",
     "text": [
      "Success!\n",
      "[(0, 0), (0, 1), (0, 2), (0, 3), (1, 3), (2, 3), (2, 2), (3, 2), (3, 1), (3, 0), (4, 0), (5, 0), (5, 1), (6, 1), (6, 2), (6, 3), (6, 4), (5, 4), (4, 4), (3, 4), (3, 5), (2, 5), (1, 5), (0, 5), (0, 6), (0, 7), (1, 7), (2, 7), (3, 7), (4, 7), (5, 7), (6, 7), (7, 7)]\n"
     ]
    }
   ],
   "source": [
    "# for convenience\n",
    "matrix = [\n",
    "    [\"0\", \"0\", \"0\", \"0\", \"1\", \"0\", \"0\", \"0\"],\n",
    "    [\"0\", \"1\", \"1\", \"0\", \"1\", \"0\", \"1\", \"0\"],\n",
    "    [\"0\", \"1\", \"0\", \"0\", \"1\", \"0\", \"1\", \"0\"],\n",
    "    [\"0\", \"0\", \"0\", \"1\", \"0\", \"0\", \"1\", \"0\"],\n",
    "    [\"0\", \"1\", \"0\", \"1\", \"0\", \"1\", \"1\", \"0\"],\n",
    "    [\"0\", \"0\", \"1\", \"1\", \"0\", \"1\", \"0\", \"0\"],\n",
    "    [\"1\", \"0\", \"0\", \"0\", \"0\", \"1\", \"1\", \"0\"],\n",
    "    [\"0\", \"0\", \"1\", \"1\", \"1\", \"1\", \"0\", \"0\"]\n",
    "]\n",
    "num_rows = len(matrix)\n",
    "num_cols = len(matrix[0])\n",
    "\n",
    "# just to be a bit more flexible, could also be passed as a function argument\n",
    "goal_state = (num_rows - 1, num_cols - 1)\n",
    "\n",
    "\n",
    "def dfs(current_path):\n",
    "    # anchor\n",
    "    row, col = current_path[-1]\n",
    "    if (row, col) == goal_state:\n",
    "        return True\n",
    "\n",
    "    # try all directions one after the other\n",
    "    for direction in [(row, col + 1), (row, col - 1), (row + 1, col), (row - 1, col)]:\n",
    "        new_row, new_col = direction\n",
    "        if (0 <= new_row < num_rows and 0 <= new_col < num_cols and  # stay in matrix borders\n",
    "                matrix[new_row][new_col] == \"0\" and                  # don't run in walls\n",
    "                (new_row, new_col) not in current_path):             # don't run in circles\n",
    "            # try new direction\n",
    "            current_path.append((new_row, new_col))\n",
    "            if dfs(current_path):  # recursive call\n",
    "                return True\n",
    "            else:\n",
    "                current_path.pop()  # backtrack\n",
    "\n",
    "\n",
    "# result a list of coordinates which should be taken in order to reach the goal\n",
    "result = [(0, 0)]\n",
    "if dfs(result):\n",
    "    print(\"Success!\")\n",
    "    print(result)\n",
    "else:\n",
    "    print(\"Failure!\")"
   ]
  },
  {
   "cell_type": "code",
   "execution_count": null,
   "metadata": {},
   "outputs": [],
   "source": []
  },
  {
   "cell_type": "code",
   "execution_count": null,
   "metadata": {},
   "outputs": [],
   "source": []
  }
 ],
 "metadata": {
  "kernelspec": {
   "display_name": "Python 3",
   "language": "python",
   "name": "python3"
  },
  "language_info": {
   "codemirror_mode": {
    "name": "ipython",
    "version": 3
   },
   "file_extension": ".py",
   "mimetype": "text/x-python",
   "name": "python",
   "nbconvert_exporter": "python",
   "pygments_lexer": "ipython3",
   "version": "3.8.3"
  }
 },
 "nbformat": 4,
 "nbformat_minor": 4
}
