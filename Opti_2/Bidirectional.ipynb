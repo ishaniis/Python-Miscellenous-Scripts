{
 "cells": [
  {
   "cell_type": "code",
   "execution_count": 6,
   "metadata": {},
   "outputs": [],
   "source": [
    "input_1 = {0:[1,2], 1:[0,3,4], 3:[1], 4:[1], 2:[0,5,6], 5:[2], 6:[2]}\n",
    "#Format vertices:lists"
   ]
  },
  {
   "cell_type": "code",
   "execution_count": 7,
   "metadata": {},
   "outputs": [],
   "source": [
    "def bi_directional_search(graph, start, goal):\n",
    "    # Check if start and goal are equal.\n",
    "    if start == goal:\n",
    "        return [start]\n",
    "    # Get dictionary of currently active vertices with their corresponding paths.\n",
    "    active_vertices_path_dict = {start: [start], goal: [goal]}\n",
    "    # Vertices we have already examined.\n",
    "    inactive_vertices = set()\n",
    "\n",
    "    while len(active_vertices_path_dict) > 0:\n",
    "\n",
    "        # Make a copy of active vertices so we can modify the original dictionary as we go.\n",
    "        active_vertices = list(active_vertices_path_dict.keys())\n",
    "        for vertex in active_vertices:\n",
    "            # Get the path to where we are.\n",
    "            current_path = active_vertices_path_dict[vertex]\n",
    "            # Record whether we started at start or goal.\n",
    "            origin = current_path[0]\n",
    "            # Check for new neighbours.\n",
    "            current_neighbours = set(graph[vertex]) - inactive_vertices\n",
    "            # Check if our neighbours hit an active vertex\n",
    "            if len(current_neighbours.intersection(active_vertices)) > 0:\n",
    "                for meeting_vertex in current_neighbours.intersection(active_vertices):\n",
    "                    # Check the two paths didn't start at same place. If not, then we've got a path from start to goal.\n",
    "                    if origin != active_vertices_path_dict[meeting_vertex][0]:\n",
    "                        # Reverse one of the paths.\n",
    "                        active_vertices_path_dict[meeting_vertex].reverse()\n",
    "                        # return the combined results\n",
    "                        return active_vertices_path_dict[vertex] + active_vertices_path_dict[meeting_vertex]\n",
    "\n",
    "            # No hits, so check for new neighbours to extend our paths.\n",
    "            if len(set(current_neighbours) - inactive_vertices - set(active_vertices))  == 0:\n",
    "                # If none, then remove the current path and record the endpoint as inactive.\n",
    "                active_vertices_path_dict.pop(vertex, None)\n",
    "                inactive_vertices.add(vertex)\n",
    "            else:\n",
    "                # Otherwise extend the paths, remove the previous one and update the inactive vertices.\n",
    "                for neighbour_vertex in current_neighbours - inactive_vertices - set(active_vertices):\n",
    "                    active_vertices_path_dict[neighbour_vertex] = current_path + [neighbour_vertex]\n",
    "                    active_vertices.append(neighbour_vertex)\n",
    "                active_vertices_path_dict.pop(vertex, None)\n",
    "                inactive_vertices.add(vertex)\n",
    "\n",
    "    return None"
   ]
  },
  {
   "cell_type": "code",
   "execution_count": 8,
   "metadata": {},
   "outputs": [
    {
     "data": {
      "text/plain": [
       "[2, 0, 1, 4]"
      ]
     },
     "execution_count": 8,
     "metadata": {},
     "output_type": "execute_result"
    }
   ],
   "source": [
    "bi_directional_search(input_1, 2, 4)"
   ]
  },
  {
   "cell_type": "code",
   "execution_count": null,
   "metadata": {},
   "outputs": [],
   "source": []
  },
  {
   "cell_type": "code",
   "execution_count": null,
   "metadata": {},
   "outputs": [],
   "source": []
  },
  {
   "cell_type": "code",
   "execution_count": null,
   "metadata": {},
   "outputs": [],
   "source": []
  },
  {
   "cell_type": "code",
   "execution_count": null,
   "metadata": {},
   "outputs": [],
   "source": []
  },
  {
   "cell_type": "code",
   "execution_count": null,
   "metadata": {},
   "outputs": [],
   "source": []
  },
  {
   "cell_type": "code",
   "execution_count": null,
   "metadata": {},
   "outputs": [],
   "source": []
  },
  {
   "cell_type": "code",
   "execution_count": null,
   "metadata": {},
   "outputs": [],
   "source": []
  },
  {
   "cell_type": "code",
   "execution_count": null,
   "metadata": {},
   "outputs": [],
   "source": []
  }
 ],
 "metadata": {
  "kernelspec": {
   "display_name": "Python 3",
   "language": "python",
   "name": "python3"
  },
  "language_info": {
   "codemirror_mode": {
    "name": "ipython",
    "version": 3
   },
   "file_extension": ".py",
   "mimetype": "text/x-python",
   "name": "python",
   "nbconvert_exporter": "python",
   "pygments_lexer": "ipython3",
   "version": "3.8.3"
  }
 },
 "nbformat": 4,
 "nbformat_minor": 4
}
